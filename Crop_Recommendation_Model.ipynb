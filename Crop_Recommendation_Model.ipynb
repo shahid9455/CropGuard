{
  "nbformat": 4,
  "nbformat_minor": 0,
  "metadata": {
    "colab": {
      "provenance": [],
      "gpuType": "T4"
    },
    "kernelspec": {
      "name": "python3",
      "display_name": "Python 3"
    },
    "language_info": {
      "name": "python"
    },
    "accelerator": "GPU"
  },
  "cells": [
    {
      "cell_type": "code",
      "execution_count": 2,
      "metadata": {
        "colab": {
          "base_uri": "https://localhost:8080/"
        },
        "id": "quWR6iWTP6cu",
        "outputId": "7f577c13-09dd-4881-d38b-c9a705e76e2d"
      },
      "outputs": [
        {
          "output_type": "stream",
          "name": "stdout",
          "text": [
            "   temperature   humidity        ph  water availability season label\n",
            "0    20.879744  82.002744  6.502985          202.935536  rainy  rice\n",
            "1    21.770462  80.319644  7.038096          226.655537  rainy  rice\n",
            "2    23.004459  82.320763  7.840207          263.964248  rainy  rice\n",
            "3    26.491096  80.158363  6.980401          242.864034  rainy  rice\n",
            "4    20.130175  81.604873  7.628473          262.717340  rainy  rice\n"
          ]
        },
        {
          "output_type": "stream",
          "name": "stderr",
          "text": [
            "<ipython-input-2-d1c3f75bcb44>:18: SettingWithCopyWarning: \n",
            "A value is trying to be set on a copy of a slice from a DataFrame.\n",
            "Try using .loc[row_indexer,col_indexer] = value instead\n",
            "\n",
            "See the caveats in the documentation: https://pandas.pydata.org/pandas-docs/stable/user_guide/indexing.html#returning-a-view-versus-a-copy\n",
            "  X['season'] = label_encoder.fit_transform(X['season'])\n"
          ]
        }
      ],
      "source": [
        "import pandas as pd\n",
        "from sklearn.model_selection import train_test_split\n",
        "from sklearn.preprocessing import LabelEncoder, StandardScaler\n",
        "import numpy as np\n",
        "\n",
        "# Load the dataset\n",
        "dataset = pd.read_csv('Crop_recommendation.csv')\n",
        "\n",
        "# Inspect the first few rows\n",
        "print(dataset.head())\n",
        "\n",
        "# Features and labels\n",
        "X = dataset[['temperature', 'humidity', 'ph', 'water availability', 'season']]\n",
        "y = dataset['label']\n",
        "\n",
        "# Encode the categorical 'season' and 'label' columns\n",
        "label_encoder = LabelEncoder()\n",
        "X['season'] = label_encoder.fit_transform(X['season'])\n",
        "y = label_encoder.fit_transform(y)\n",
        "\n",
        "# Train-test split\n",
        "X_train, X_test, y_train, y_test = train_test_split(X, y, test_size=0.2, random_state=42)\n",
        "\n",
        "# Feature Scaling\n",
        "scaler = StandardScaler()\n",
        "X_train = scaler.fit_transform(X_train)\n",
        "X_test = scaler.transform(X_test)"
      ]
    },
    {
      "cell_type": "code",
      "source": [
        "import tensorflow as tf\n",
        "from tensorflow.keras.models import Sequential\n",
        "from tensorflow.keras.layers import Dense, Dropout\n",
        "from tensorflow.keras.optimizers import Adam\n",
        "\n",
        "# Check if GPU is available\n",
        "device_name = tf.test.gpu_device_name()\n",
        "if device_name != '/device:GPU:0':\n",
        "    raise SystemError('GPU device not found')\n",
        "else:\n",
        "    print(f'Found GPU at: {device_name}')\n",
        "\n",
        "# Build a Sequential Model\n",
        "model = Sequential()\n",
        "\n",
        "# Input layer\n",
        "model.add(Dense(128, input_dim=X_train.shape[1], activation='relu'))\n",
        "model.add(Dropout(0.3))\n",
        "\n",
        "# Hidden layers\n",
        "model.add(Dense(64, activation='relu'))\n",
        "model.add(Dropout(0.3))\n",
        "\n",
        "model.add(Dense(32, activation='relu'))\n",
        "model.add(Dropout(0.3))\n",
        "\n",
        "# Output layer\n",
        "model.add(Dense(len(np.unique(y)), activation='softmax'))\n",
        "\n",
        "# Compile the model\n",
        "model.compile(optimizer=Adam(learning_rate=0.001),\n",
        "              loss='sparse_categorical_crossentropy',\n",
        "              metrics=['accuracy'])\n",
        "\n",
        "# Train the model\n",
        "history = model.fit(X_train, y_train, epochs=50, batch_size=32, validation_data=(X_test, y_test), verbose=2)\n",
        "\n",
        "# Evaluate the model on the test data\n",
        "score = model.evaluate(X_test, y_test, verbose=0)\n",
        "print(f\"Test Accuracy: {score[1] * 100:.2f}%\")"
      ],
      "metadata": {
        "colab": {
          "base_uri": "https://localhost:8080/"
        },
        "id": "3C0JFY0zQRpR",
        "outputId": "cedddbe6-2ac8-4e8c-c847-c77f9d6e89d1"
      },
      "execution_count": 3,
      "outputs": [
        {
          "output_type": "stream",
          "name": "stdout",
          "text": [
            "Found GPU at: /device:GPU:0\n"
          ]
        },
        {
          "output_type": "stream",
          "name": "stderr",
          "text": [
            "/usr/local/lib/python3.10/dist-packages/keras/src/layers/core/dense.py:87: UserWarning: Do not pass an `input_shape`/`input_dim` argument to a layer. When using Sequential models, prefer using an `Input(shape)` object as the first layer in the model instead.\n",
            "  super().__init__(activity_regularizer=activity_regularizer, **kwargs)\n"
          ]
        },
        {
          "output_type": "stream",
          "name": "stdout",
          "text": [
            "Epoch 1/50\n",
            "35/35 - 6s - 158ms/step - accuracy: 0.1705 - loss: 2.4185 - val_accuracy: 0.4321 - val_loss: 2.1843\n",
            "Epoch 2/50\n",
            "35/35 - 0s - 3ms/step - accuracy: 0.3696 - loss: 2.0014 - val_accuracy: 0.6179 - val_loss: 1.5918\n",
            "Epoch 3/50\n",
            "35/35 - 0s - 4ms/step - accuracy: 0.4875 - loss: 1.5607 - val_accuracy: 0.7536 - val_loss: 1.0614\n",
            "Epoch 4/50\n",
            "35/35 - 0s - 4ms/step - accuracy: 0.6036 - loss: 1.2044 - val_accuracy: 0.7929 - val_loss: 0.7561\n",
            "Epoch 5/50\n",
            "35/35 - 0s - 3ms/step - accuracy: 0.6554 - loss: 1.0084 - val_accuracy: 0.8821 - val_loss: 0.5464\n",
            "Epoch 6/50\n",
            "35/35 - 0s - 3ms/step - accuracy: 0.6768 - loss: 0.8764 - val_accuracy: 0.9071 - val_loss: 0.4366\n",
            "Epoch 7/50\n",
            "35/35 - 0s - 3ms/step - accuracy: 0.7188 - loss: 0.7650 - val_accuracy: 0.9107 - val_loss: 0.3719\n",
            "Epoch 8/50\n",
            "35/35 - 0s - 3ms/step - accuracy: 0.7402 - loss: 0.7013 - val_accuracy: 0.9179 - val_loss: 0.3213\n",
            "Epoch 9/50\n",
            "35/35 - 0s - 3ms/step - accuracy: 0.7768 - loss: 0.5943 - val_accuracy: 0.9107 - val_loss: 0.2851\n",
            "Epoch 10/50\n",
            "35/35 - 0s - 3ms/step - accuracy: 0.7929 - loss: 0.5679 - val_accuracy: 0.9357 - val_loss: 0.2464\n",
            "Epoch 11/50\n",
            "35/35 - 0s - 3ms/step - accuracy: 0.8036 - loss: 0.5198 - val_accuracy: 0.9286 - val_loss: 0.2369\n",
            "Epoch 12/50\n",
            "35/35 - 0s - 4ms/step - accuracy: 0.8232 - loss: 0.4853 - val_accuracy: 0.9321 - val_loss: 0.2091\n",
            "Epoch 13/50\n",
            "35/35 - 0s - 4ms/step - accuracy: 0.8232 - loss: 0.4722 - val_accuracy: 0.9429 - val_loss: 0.2122\n",
            "Epoch 14/50\n",
            "35/35 - 0s - 3ms/step - accuracy: 0.8482 - loss: 0.4250 - val_accuracy: 0.9393 - val_loss: 0.1939\n",
            "Epoch 15/50\n",
            "35/35 - 0s - 3ms/step - accuracy: 0.8402 - loss: 0.4309 - val_accuracy: 0.9429 - val_loss: 0.1810\n",
            "Epoch 16/50\n",
            "35/35 - 0s - 3ms/step - accuracy: 0.8464 - loss: 0.3970 - val_accuracy: 0.9357 - val_loss: 0.1728\n",
            "Epoch 17/50\n",
            "35/35 - 0s - 3ms/step - accuracy: 0.8339 - loss: 0.4082 - val_accuracy: 0.9536 - val_loss: 0.1728\n",
            "Epoch 18/50\n",
            "35/35 - 0s - 3ms/step - accuracy: 0.8687 - loss: 0.3536 - val_accuracy: 0.9500 - val_loss: 0.1707\n",
            "Epoch 19/50\n",
            "35/35 - 0s - 3ms/step - accuracy: 0.8813 - loss: 0.3362 - val_accuracy: 0.9464 - val_loss: 0.1626\n",
            "Epoch 20/50\n",
            "35/35 - 0s - 3ms/step - accuracy: 0.8741 - loss: 0.3262 - val_accuracy: 0.9607 - val_loss: 0.1431\n",
            "Epoch 21/50\n",
            "35/35 - 0s - 4ms/step - accuracy: 0.8857 - loss: 0.3331 - val_accuracy: 0.9429 - val_loss: 0.1399\n",
            "Epoch 22/50\n",
            "35/35 - 0s - 4ms/step - accuracy: 0.8821 - loss: 0.3194 - val_accuracy: 0.9536 - val_loss: 0.1428\n",
            "Epoch 23/50\n",
            "35/35 - 0s - 4ms/step - accuracy: 0.8875 - loss: 0.3436 - val_accuracy: 0.9500 - val_loss: 0.1364\n",
            "Epoch 24/50\n",
            "35/35 - 0s - 3ms/step - accuracy: 0.8795 - loss: 0.2955 - val_accuracy: 0.9500 - val_loss: 0.1411\n",
            "Epoch 25/50\n",
            "35/35 - 0s - 4ms/step - accuracy: 0.8813 - loss: 0.3196 - val_accuracy: 0.9500 - val_loss: 0.1428\n",
            "Epoch 26/50\n",
            "35/35 - 0s - 4ms/step - accuracy: 0.8884 - loss: 0.3023 - val_accuracy: 0.9571 - val_loss: 0.1245\n",
            "Epoch 27/50\n",
            "35/35 - 0s - 3ms/step - accuracy: 0.8938 - loss: 0.2812 - val_accuracy: 0.9536 - val_loss: 0.1337\n",
            "Epoch 28/50\n",
            "35/35 - 0s - 3ms/step - accuracy: 0.9080 - loss: 0.2675 - val_accuracy: 0.9536 - val_loss: 0.1297\n",
            "Epoch 29/50\n",
            "35/35 - 0s - 3ms/step - accuracy: 0.9054 - loss: 0.2698 - val_accuracy: 0.9679 - val_loss: 0.1181\n",
            "Epoch 30/50\n",
            "35/35 - 0s - 3ms/step - accuracy: 0.9187 - loss: 0.2273 - val_accuracy: 0.9571 - val_loss: 0.1183\n",
            "Epoch 31/50\n",
            "35/35 - 0s - 3ms/step - accuracy: 0.8991 - loss: 0.2688 - val_accuracy: 0.9571 - val_loss: 0.1190\n",
            "Epoch 32/50\n",
            "35/35 - 0s - 4ms/step - accuracy: 0.9000 - loss: 0.2441 - val_accuracy: 0.9643 - val_loss: 0.1161\n",
            "Epoch 33/50\n",
            "35/35 - 0s - 3ms/step - accuracy: 0.8964 - loss: 0.2633 - val_accuracy: 0.9643 - val_loss: 0.1148\n",
            "Epoch 34/50\n",
            "35/35 - 0s - 3ms/step - accuracy: 0.9295 - loss: 0.2341 - val_accuracy: 0.9607 - val_loss: 0.1100\n",
            "Epoch 35/50\n",
            "35/35 - 0s - 4ms/step - accuracy: 0.9054 - loss: 0.2675 - val_accuracy: 0.9607 - val_loss: 0.1181\n",
            "Epoch 36/50\n",
            "35/35 - 0s - 3ms/step - accuracy: 0.9214 - loss: 0.2257 - val_accuracy: 0.9679 - val_loss: 0.1085\n",
            "Epoch 37/50\n",
            "35/35 - 0s - 4ms/step - accuracy: 0.9268 - loss: 0.1964 - val_accuracy: 0.9607 - val_loss: 0.1063\n",
            "Epoch 38/50\n",
            "35/35 - 0s - 8ms/step - accuracy: 0.9170 - loss: 0.2245 - val_accuracy: 0.9643 - val_loss: 0.1086\n",
            "Epoch 39/50\n",
            "35/35 - 0s - 8ms/step - accuracy: 0.9196 - loss: 0.2109 - val_accuracy: 0.9643 - val_loss: 0.1098\n",
            "Epoch 40/50\n",
            "35/35 - 0s - 4ms/step - accuracy: 0.9223 - loss: 0.2144 - val_accuracy: 0.9607 - val_loss: 0.1169\n",
            "Epoch 41/50\n",
            "35/35 - 0s - 4ms/step - accuracy: 0.9232 - loss: 0.2205 - val_accuracy: 0.9607 - val_loss: 0.1025\n",
            "Epoch 42/50\n",
            "35/35 - 0s - 9ms/step - accuracy: 0.9321 - loss: 0.2009 - val_accuracy: 0.9714 - val_loss: 0.0997\n",
            "Epoch 43/50\n",
            "35/35 - 0s - 8ms/step - accuracy: 0.9250 - loss: 0.2045 - val_accuracy: 0.9607 - val_loss: 0.1191\n",
            "Epoch 44/50\n",
            "35/35 - 0s - 6ms/step - accuracy: 0.9170 - loss: 0.2352 - val_accuracy: 0.9643 - val_loss: 0.0983\n",
            "Epoch 45/50\n",
            "35/35 - 0s - 7ms/step - accuracy: 0.9330 - loss: 0.1943 - val_accuracy: 0.9786 - val_loss: 0.0889\n",
            "Epoch 46/50\n",
            "35/35 - 0s - 7ms/step - accuracy: 0.9295 - loss: 0.2188 - val_accuracy: 0.9750 - val_loss: 0.0989\n",
            "Epoch 47/50\n",
            "35/35 - 0s - 4ms/step - accuracy: 0.9223 - loss: 0.2096 - val_accuracy: 0.9643 - val_loss: 0.1027\n",
            "Epoch 48/50\n",
            "35/35 - 0s - 4ms/step - accuracy: 0.9411 - loss: 0.1893 - val_accuracy: 0.9643 - val_loss: 0.0965\n",
            "Epoch 49/50\n",
            "35/35 - 0s - 3ms/step - accuracy: 0.9312 - loss: 0.1939 - val_accuracy: 0.9714 - val_loss: 0.0894\n",
            "Epoch 50/50\n",
            "35/35 - 0s - 3ms/step - accuracy: 0.9339 - loss: 0.1834 - val_accuracy: 0.9714 - val_loss: 0.0944\n",
            "Test Accuracy: 97.14%\n"
          ]
        }
      ]
    },
    {
      "cell_type": "code",
      "source": [
        "# Save the trained model as an .h5 file\n",
        "model.save('/content/crop_recommendation_model.h5')"
      ],
      "metadata": {
        "colab": {
          "base_uri": "https://localhost:8080/"
        },
        "id": "mY9-5M6uQaGg",
        "outputId": "953e25ec-7465-4c8c-bcaf-a6a478543d6f"
      },
      "execution_count": 4,
      "outputs": [
        {
          "output_type": "stream",
          "name": "stderr",
          "text": [
            "WARNING:absl:You are saving your model as an HDF5 file via `model.save()` or `keras.saving.save_model(model)`. This file format is considered legacy. We recommend using instead the native Keras format, e.g. `model.save('my_model.keras')` or `keras.saving.save_model(model, 'my_model.keras')`. \n"
          ]
        }
      ]
    },
    {
      "cell_type": "code",
      "source": [],
      "metadata": {
        "id": "PXglaALOQkHq"
      },
      "execution_count": null,
      "outputs": []
    },
    {
      "cell_type": "code",
      "source": [
        "from tensorflow.keras.models import load_model\n",
        "\n",
        "# Load the trained model\n",
        "model = load_model('crop_recommendation_model.h5')"
      ],
      "metadata": {
        "colab": {
          "base_uri": "https://localhost:8080/"
        },
        "id": "AXXl0yX6RIb5",
        "outputId": "beef5ff4-a8f8-4b47-8f22-5296e170a6b5"
      },
      "execution_count": 5,
      "outputs": [
        {
          "output_type": "stream",
          "name": "stderr",
          "text": [
            "WARNING:absl:Compiled the loaded model, but the compiled metrics have yet to be built. `model.compile_metrics` will be empty until you train or evaluate the model.\n"
          ]
        }
      ]
    },
    {
      "cell_type": "code",
      "source": [],
      "metadata": {
        "id": "h-xnOyzcRj2K"
      },
      "execution_count": null,
      "outputs": []
    }
  ]
}